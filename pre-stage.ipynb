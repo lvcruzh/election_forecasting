{
 "cells": [
  {
   "cell_type": "code",
   "execution_count": 1,
   "metadata": {},
   "outputs": [],
   "source": [
    "import pandas as pd"
   ]
  },
  {
   "attachments": {},
   "cell_type": "markdown",
   "metadata": {},
   "source": [
    "# First debate"
   ]
  },
  {
   "cell_type": "code",
   "execution_count": 2,
   "metadata": {},
   "outputs": [],
   "source": [
    "# Loading first debate (fd) live comments\n",
    "fd = pd.read_csv('./first_debate.csv')"
   ]
  },
  {
   "cell_type": "code",
   "execution_count": 8,
   "metadata": {},
   "outputs": [],
   "source": [
    "count_comments1 = {}\n",
    "\n",
    "for auth in fd['author']:\n",
    "    if auth in count_comments1.keys():\n",
    "        count_comments1[auth] += 1\n",
    "    else:\n",
    "        count_comments1[auth] = 1"
   ]
  },
  {
   "cell_type": "code",
   "execution_count": 12,
   "metadata": {},
   "outputs": [],
   "source": [
    "first_debate = list(count_comments1.values())"
   ]
  },
  {
   "attachments": {},
   "cell_type": "markdown",
   "metadata": {},
   "source": [
    "# Second debate"
   ]
  },
  {
   "cell_type": "code",
   "execution_count": 14,
   "metadata": {},
   "outputs": [],
   "source": [
    "# Loading second debate (sd) live comments\n",
    "sd = pd.read_csv('./second_debate.csv')"
   ]
  },
  {
   "cell_type": "code",
   "execution_count": 15,
   "metadata": {},
   "outputs": [],
   "source": [
    "count_comments2 = {}\n",
    "\n",
    "for auth in sd['author']:\n",
    "    if auth in count_comments2.keys():\n",
    "        count_comments2[auth] += 1\n",
    "    else:\n",
    "        count_comments2[auth] = 1"
   ]
  },
  {
   "cell_type": "code",
   "execution_count": 16,
   "metadata": {},
   "outputs": [],
   "source": [
    "second_debate = list(count_comments2.values())"
   ]
  },
  {
   "attachments": {},
   "cell_type": "markdown",
   "metadata": {},
   "source": [
    "# Third debate"
   ]
  },
  {
   "cell_type": "code",
   "execution_count": 18,
   "metadata": {},
   "outputs": [],
   "source": [
    "# Loading third debate (td) live comments\n",
    "td = pd.read_csv('./third_debate.csv')"
   ]
  },
  {
   "cell_type": "code",
   "execution_count": 19,
   "metadata": {},
   "outputs": [],
   "source": [
    "count_comments3 = {}\n",
    "\n",
    "for auth in td['author']:\n",
    "    if auth in count_comments3.keys():\n",
    "        count_comments3[auth] += 1\n",
    "    else:\n",
    "        count_comments3[auth] = 1"
   ]
  },
  {
   "cell_type": "code",
   "execution_count": 20,
   "metadata": {},
   "outputs": [],
   "source": [
    "third_debate = list(count_comments3.values())"
   ]
  },
  {
   "cell_type": "code",
   "execution_count": 22,
   "metadata": {},
   "outputs": [],
   "source": [
    "# Saving the results \n",
    "df1= pd.DataFrame(first_debate)\n",
    "df2= pd.DataFrame(second_debate)\n",
    "df3= pd.DataFrame(third_debate)\n",
    "df1.to_csv('count_comments1.csv')\n",
    "df2.to_csv('count_comments2.csv')\n",
    "df3.to_csv('count_comments3.csv')"
   ]
  }
 ],
 "metadata": {
  "kernelspec": {
   "display_name": "Python 3.9.12 ('base')",
   "language": "python",
   "name": "python3"
  },
  "language_info": {
   "codemirror_mode": {
    "name": "ipython",
    "version": 3
   },
   "file_extension": ".py",
   "mimetype": "text/x-python",
   "name": "python",
   "nbconvert_exporter": "python",
   "pygments_lexer": "ipython3",
   "version": "3.9.12"
  },
  "orig_nbformat": 4,
  "vscode": {
   "interpreter": {
    "hash": "c2f112aea6c7331ef73a2dd54bd858ce57126abe80b4ddcd6e90ac009aa37896"
   }
  }
 },
 "nbformat": 4,
 "nbformat_minor": 2
}
