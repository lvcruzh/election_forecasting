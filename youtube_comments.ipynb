{
 "cells": [
  {
   "cell_type": "code",
   "execution_count": null,
   "metadata": {},
   "outputs": [],
   "source": [
    "# pip install pytchat"
   ]
  },
  {
   "attachments": {},
   "cell_type": "markdown",
   "metadata": {},
   "source": [
    "# Links to videos \n",
    "\n",
    "# First Presidential Debate\n",
    "Univision noticias - 3M views: https://www.youtube.com/watch?v=vcnldrnIWf0&t=6625s\n",
    "\n",
    "# Second Presidential Debate \n",
    "Univision noticias - 1.6 M views: https://www.youtube.com/watch?v=oDYKUGSl9m4 \n",
    "\n",
    "# Third Presidential Debate\n",
    "Univision noticias - 408k views: https://www.youtube.com/watch?v=xm5S-qamgik "
   ]
  },
  {
   "cell_type": "code",
   "execution_count": 1,
   "metadata": {},
   "outputs": [],
   "source": [
    "import pytchat\n",
    "import pandas as pd"
   ]
  },
  {
   "cell_type": "code",
   "execution_count": null,
   "metadata": {},
   "outputs": [],
   "source": [
    "# First debate\n",
    "chat1 = pytchat.create(video_id = 'vcnldrnIWf0')"
   ]
  },
  {
   "cell_type": "code",
   "execution_count": null,
   "metadata": {},
   "outputs": [],
   "source": [
    "msg_1st = []\n",
    "\n",
    "# Save each message into the list\n",
    "while chat1.is_alive():\n",
    "    for msg in chat1.get().sync_items():\n",
    "        info = (msg.datetime, msg.author.name, msg.message)\n",
    "        msg_1st.append(info)\n",
    "\n",
    "# Create a data frame\n",
    "msg_df1 = pd.DataFrame(msg_1st, columns=['datetime', 'author', 'message'])\n",
    "\n",
    "# Adapted from: https://www.youtube.com/watch?v=BjQm3utCw9w"
   ]
  },
  {
   "cell_type": "code",
   "execution_count": null,
   "metadata": {},
   "outputs": [],
   "source": [
    "msg_df1.to_csv('first_debate.csv', index=False)"
   ]
  },
  {
   "cell_type": "code",
   "execution_count": null,
   "metadata": {},
   "outputs": [],
   "source": [
    "# Second debate\n",
    "chat2 = pytchat.create(video_id = 'oDYKUGSl9m4')"
   ]
  },
  {
   "cell_type": "code",
   "execution_count": null,
   "metadata": {},
   "outputs": [],
   "source": [
    "msg_2nd = []\n",
    "\n",
    "# Save each message into the list\n",
    "while chat2.is_alive():\n",
    "    for msg in chat2.get().sync_items():\n",
    "        info = (msg.datetime, msg.author.name, msg.message)\n",
    "        msg_2nd.append(info)\n",
    "\n",
    "# Create a data frame\n",
    "msg_df2 = pd.DataFrame(msg_2nd, columns=['datetime', 'author', 'message'])\n",
    "msg_df2.to_csv('second_debate.csv', index=False)"
   ]
  },
  {
   "cell_type": "code",
   "execution_count": 2,
   "metadata": {},
   "outputs": [],
   "source": [
    "# Third debate\n",
    "chat3 = pytchat.create(video_id = 'xm5S-qamgik')"
   ]
  },
  {
   "cell_type": "code",
   "execution_count": 3,
   "metadata": {},
   "outputs": [],
   "source": [
    "msg_3rd = []\n",
    "\n",
    "# Save each message into the list\n",
    "while chat3.is_alive():\n",
    "    for msg in chat3.get().sync_items():\n",
    "        info = (msg.datetime, msg.author.name, msg.message)\n",
    "        msg_3rd.append(info)\n",
    "\n",
    "# Create a data frame\n",
    "msg_df3 = pd.DataFrame(msg_3rd, columns=['datetime', 'author', 'message'])\n",
    "msg_df3.to_csv('third_debate.csv', index=False)"
   ]
  }
 ],
 "metadata": {
  "kernelspec": {
   "display_name": "Python 3.9.12 ('base')",
   "language": "python",
   "name": "python3"
  },
  "language_info": {
   "codemirror_mode": {
    "name": "ipython",
    "version": 3
   },
   "file_extension": ".py",
   "mimetype": "text/x-python",
   "name": "python",
   "nbconvert_exporter": "python",
   "pygments_lexer": "ipython3",
   "version": "3.9.12"
  },
  "orig_nbformat": 4,
  "vscode": {
   "interpreter": {
    "hash": "c2f112aea6c7331ef73a2dd54bd858ce57126abe80b4ddcd6e90ac009aa37896"
   }
  }
 },
 "nbformat": 4,
 "nbformat_minor": 2
}
