{
 "cells": [
  {
   "cell_type": "code",
   "execution_count": 1,
   "metadata": {},
   "outputs": [],
   "source": [
    "import os\n",
    "import pandas as pd\n",
    "import openai\n",
    "import time"
   ]
  },
  {
   "cell_type": "code",
   "execution_count": null,
   "metadata": {},
   "outputs": [],
   "source": [
    "#pip install openai\n",
    "# API key\n",
    "openai.api_key = 'your_key'"
   ]
  },
  {
   "attachments": {},
   "cell_type": "markdown",
   "metadata": {},
   "source": [
    "# First debate"
   ]
  },
  {
   "cell_type": "code",
   "execution_count": 2,
   "metadata": {},
   "outputs": [],
   "source": [
    "# Loading firs debate (fd) live comments\n",
    "fd = pd.read_csv('./first_debate.csv')"
   ]
  },
  {
   "cell_type": "code",
   "execution_count": 3,
   "metadata": {},
   "outputs": [],
   "source": [
    "# Getting unique comments\n",
    "\n",
    "fd_unique = fd.drop_duplicates(subset = 'author', keep = 'first')"
   ]
  },
  {
   "cell_type": "code",
   "execution_count": null,
   "metadata": {},
   "outputs": [],
   "source": [
    "# Querying the API\n",
    "\n",
    "result_fd = []\n",
    "for message in fd_unique['message']:\n",
    "    time.sleep(1)\n",
    "    completion = openai.Completion.create(\n",
    "        model = 'text-davinci-003',\n",
    "        prompt = (\"your_promt\"),\n",
    "        #max_tokens=1,\n",
    "        temperature=0\n",
    "    )\n",
    "    candidate = completion.choices[0].text.strip()\n",
    "    result_fd.append(candidate)\n",
    "    \n",
    "    \n",
    "# Adapted from\n",
    "# https://platform.openai.com/docs/guides/gpt/completions-api"
   ]
  },
  {
   "cell_type": "code",
   "execution_count": null,
   "metadata": {},
   "outputs": [],
   "source": [
    "# Saving the results\n",
    "\n",
    "dffd_results = pd.DataFrame(result_fd)\n",
    "dffd_results.to_csv('results_fd.csv')"
   ]
  },
  {
   "attachments": {},
   "cell_type": "markdown",
   "metadata": {},
   "source": [
    "# Second debate"
   ]
  },
  {
   "cell_type": "code",
   "execution_count": 4,
   "metadata": {},
   "outputs": [],
   "source": [
    "# Loading second debate (sd) live comments\n",
    "sd = pd.read_csv('./second_debate.csv')"
   ]
  },
  {
   "cell_type": "code",
   "execution_count": 5,
   "metadata": {},
   "outputs": [],
   "source": [
    "# Getting unique comments \n",
    "sd_unique = sd.drop_duplicates(subset = 'author', keep = 'first')"
   ]
  },
  {
   "cell_type": "code",
   "execution_count": null,
   "metadata": {},
   "outputs": [],
   "source": [
    "# Querying the API\n",
    "\n",
    "result_sd = []\n",
    "for message in sd_unique['message']:\n",
    "    time.sleep(1)\n",
    "    completion = openai.Completion.create(\n",
    "        model = 'text-davinci-003',\n",
    "        prompt = (\"your_prompt\"),\n",
    "        #max_tokens=1,\n",
    "        temperature=0\n",
    "    )\n",
    "    candidate = completion.choices[0].text.strip()\n",
    "    result_sd.append(candidate)\n",
    "    \n",
    "    \n",
    "# Adapted from\n",
    "# https://platform.openai.com/docs/guides/gpt/completions-api"
   ]
  },
  {
   "cell_type": "code",
   "execution_count": null,
   "metadata": {},
   "outputs": [],
   "source": [
    "# Saving the results\n",
    "\n",
    "dfsd_results = pd.DataFrame(result_sd)\n",
    "dfsd_results.to_csv('results_sd.csv')"
   ]
  },
  {
   "attachments": {},
   "cell_type": "markdown",
   "metadata": {},
   "source": [
    "# Third debate"
   ]
  },
  {
   "cell_type": "code",
   "execution_count": 6,
   "metadata": {},
   "outputs": [],
   "source": [
    "# Loading third debate live comments\n",
    "td = pd.read_csv('./third_debate.csv')"
   ]
  },
  {
   "cell_type": "code",
   "execution_count": 7,
   "metadata": {},
   "outputs": [],
   "source": [
    "# Getting unique comments \n",
    "td_unique = td.drop_duplicates(subset = 'author', keep = 'first')"
   ]
  },
  {
   "cell_type": "code",
   "execution_count": null,
   "metadata": {},
   "outputs": [],
   "source": [
    "# Querying the API\n",
    "\n",
    "result_td = []\n",
    "for message in td_unique['message']:\n",
    "    time.sleep(2)\n",
    "    completion = openai.Completion.create(\n",
    "        model = 'text-davinci-003',\n",
    "        prompt = (\"your_prompt\"),\n",
    "        #max_tokens=1,\n",
    "        temperature=0\n",
    "    )\n",
    "    candidate = completion.choices[0].text.strip()\n",
    "    result_td.append(candidate)\n",
    "    \n",
    "    \n",
    "# Adapted from\n",
    "# https://platform.openai.com/docs/guides/gpt/completions-api"
   ]
  },
  {
   "cell_type": "code",
   "execution_count": null,
   "metadata": {},
   "outputs": [],
   "source": [
    "# Saving the results\n",
    "\n",
    "dftd_results = pd.DataFrame(result_td)\n",
    "dftd_results.to_csv('results_td.csv')"
   ]
  }
 ],
 "metadata": {
  "kernelspec": {
   "display_name": "Python 3.9.12 ('base')",
   "language": "python",
   "name": "python3"
  },
  "language_info": {
   "codemirror_mode": {
    "name": "ipython",
    "version": 3
   },
   "file_extension": ".py",
   "mimetype": "text/x-python",
   "name": "python",
   "nbconvert_exporter": "python",
   "pygments_lexer": "ipython3",
   "version": "3.9.12"
  },
  "orig_nbformat": 4,
  "vscode": {
   "interpreter": {
    "hash": "c2f112aea6c7331ef73a2dd54bd858ce57126abe80b4ddcd6e90ac009aa37896"
   }
  }
 },
 "nbformat": 4,
 "nbformat_minor": 2
}
